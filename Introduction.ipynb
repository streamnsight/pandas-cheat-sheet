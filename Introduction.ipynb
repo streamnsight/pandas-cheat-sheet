{
 "cells": [
  {
   "cell_type": "markdown",
   "metadata": {},
   "source": [
    "# Python Meetup: Crash Course in Pandas\n",
    "\n",
    "## Introduction\n",
    "Pandas: the de facto toolkit for data-science and manipulating datasets.\n",
    "\n",
    "It uses numpy behind the scenes, so it gives access to many of its functionalities.\n",
    "\n",
    "### Structures\n",
    "- Series: 1D-arrays\n",
    "- DataFrames: 2D-arrays\n",
    "- Panels: 3D-arrays"
   ]
  },
  {
   "cell_type": "markdown",
   "metadata": {},
   "source": [
    "- DataFrames is the most commonly used structure.\n",
    "\n",
    "- DataFrame columns are Series."
   ]
  },
  {
   "cell_type": "markdown",
   "metadata": {},
   "source": [
    "### Let's jump right in!"
   ]
  },
  {
   "cell_type": "markdown",
   "metadata": {},
   "source": [
    "https://github.com/streamnsight/pandas-cheat-sheet"
   ]
  },
  {
   "cell_type": "code",
   "execution_count": null,
   "metadata": {},
   "outputs": [],
   "source": []
  }
 ],
 "metadata": {
  "kernelspec": {
   "display_name": "Python 2",
   "language": "python",
   "name": "python2"
  },
  "language_info": {
   "codemirror_mode": {
    "name": "ipython",
    "version": 2
   },
   "file_extension": ".py",
   "mimetype": "text/x-python",
   "name": "python",
   "nbconvert_exporter": "python",
   "pygments_lexer": "ipython2",
   "version": "2.7.14"
  }
 },
 "nbformat": 4,
 "nbformat_minor": 2
}
